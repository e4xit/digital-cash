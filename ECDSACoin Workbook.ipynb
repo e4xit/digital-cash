{
 "cells": [
  {
   "cell_type": "markdown",
   "metadata": {},
   "source": [
    "[slides](https://docs.google.com/presentation/d/19K9nVjuSOCrZGM6lmFeEEarTm2xZwDSiZEIzf-Ywr5o/edit?usp=sharing)\n",
    "\n",
    "[python-ecdsa docs](https://github.com/warner/python-ecdsa)"
   ]
  },
  {
   "cell_type": "markdown",
   "metadata": {},
   "source": [
    "# Signing our First Message with ECDSA"
   ]
  },
  {
   "cell_type": "code",
   "execution_count": 4,
   "metadata": {},
   "outputs": [],
   "source": [
    "from ecdsa import SigningKey, SECP256k1\n",
    "\n",
    "private_key = SigningKey.generate(curve=SECP256k1)\n",
    "public_key = private_key.get_verifying_key()\n",
    "\n",
    "message = b\"I need coffee\"\n",
    "signature = private_key.sign(message)"
   ]
  },
  {
   "cell_type": "code",
   "execution_count": 5,
   "metadata": {},
   "outputs": [
    {
     "data": {
      "text/plain": [
       "True"
      ]
     },
     "execution_count": 5,
     "metadata": {},
     "output_type": "execute_result"
    }
   ],
   "source": [
    "public_key.verify(signature, message)"
   ]
  },
  {
   "cell_type": "code",
   "execution_count": 6,
   "metadata": {},
   "outputs": [
    {
     "ename": "BadSignatureError",
     "evalue": "",
     "output_type": "error",
     "traceback": [
      "\u001b[0;31m---------------------------------------------------------------------------\u001b[0m",
      "\u001b[0;31mBadSignatureError\u001b[0m                         Traceback (most recent call last)",
      "\u001b[0;32m<ipython-input-6-fd7b351a4b7d>\u001b[0m in \u001b[0;36m<module>\u001b[0;34m()\u001b[0m\n\u001b[1;32m      1\u001b[0m \u001b[0;31m# if we use a different message, we get an error such as belong which\u001b[0m\u001b[0;34m\u001b[0m\u001b[0;34m\u001b[0m\u001b[0m\n\u001b[1;32m      2\u001b[0m \u001b[0;31m# which can be caught and handled by another part of our program\u001b[0m\u001b[0;34m\u001b[0m\u001b[0;34m\u001b[0m\u001b[0m\n\u001b[0;32m----> 3\u001b[0;31m \u001b[0mpublic_key\u001b[0m\u001b[0;34m.\u001b[0m\u001b[0mverify\u001b[0m\u001b[0;34m(\u001b[0m\u001b[0msignature\u001b[0m\u001b[0;34m,\u001b[0m \u001b[0;34mb\"I don't need coffee\"\u001b[0m\u001b[0;34m)\u001b[0m\u001b[0;34m\u001b[0m\u001b[0m\n\u001b[0m",
      "\u001b[0;32m~/Documents/Programming/buidl_bitcoin/digital-cash/venv/lib/python3.7/site-packages/ecdsa/keys.py\u001b[0m in \u001b[0;36mverify\u001b[0;34m(self, signature, data, hashfunc, sigdecode)\u001b[0m\n\u001b[1;32m     99\u001b[0m         \u001b[0mhashfunc\u001b[0m \u001b[0;34m=\u001b[0m \u001b[0mhashfunc\u001b[0m \u001b[0;32mor\u001b[0m \u001b[0mself\u001b[0m\u001b[0;34m.\u001b[0m\u001b[0mdefault_hashfunc\u001b[0m\u001b[0;34m\u001b[0m\u001b[0m\n\u001b[1;32m    100\u001b[0m         \u001b[0mdigest\u001b[0m \u001b[0;34m=\u001b[0m \u001b[0mhashfunc\u001b[0m\u001b[0;34m(\u001b[0m\u001b[0mdata\u001b[0m\u001b[0;34m)\u001b[0m\u001b[0;34m.\u001b[0m\u001b[0mdigest\u001b[0m\u001b[0;34m(\u001b[0m\u001b[0;34m)\u001b[0m\u001b[0;34m\u001b[0m\u001b[0m\n\u001b[0;32m--> 101\u001b[0;31m         \u001b[0;32mreturn\u001b[0m \u001b[0mself\u001b[0m\u001b[0;34m.\u001b[0m\u001b[0mverify_digest\u001b[0m\u001b[0;34m(\u001b[0m\u001b[0msignature\u001b[0m\u001b[0;34m,\u001b[0m \u001b[0mdigest\u001b[0m\u001b[0;34m,\u001b[0m \u001b[0msigdecode\u001b[0m\u001b[0;34m)\u001b[0m\u001b[0;34m\u001b[0m\u001b[0m\n\u001b[0m\u001b[1;32m    102\u001b[0m \u001b[0;34m\u001b[0m\u001b[0m\n\u001b[1;32m    103\u001b[0m     \u001b[0;32mdef\u001b[0m \u001b[0mverify_digest\u001b[0m\u001b[0;34m(\u001b[0m\u001b[0mself\u001b[0m\u001b[0;34m,\u001b[0m \u001b[0msignature\u001b[0m\u001b[0;34m,\u001b[0m \u001b[0mdigest\u001b[0m\u001b[0;34m,\u001b[0m \u001b[0msigdecode\u001b[0m\u001b[0;34m=\u001b[0m\u001b[0msigdecode_string\u001b[0m\u001b[0;34m)\u001b[0m\u001b[0;34m:\u001b[0m\u001b[0;34m\u001b[0m\u001b[0m\n",
      "\u001b[0;32m~/Documents/Programming/buidl_bitcoin/digital-cash/venv/lib/python3.7/site-packages/ecdsa/keys.py\u001b[0m in \u001b[0;36mverify_digest\u001b[0;34m(self, signature, digest, sigdecode)\u001b[0m\n\u001b[1;32m    111\u001b[0m         \u001b[0;32mif\u001b[0m \u001b[0mself\u001b[0m\u001b[0;34m.\u001b[0m\u001b[0mpubkey\u001b[0m\u001b[0;34m.\u001b[0m\u001b[0mverifies\u001b[0m\u001b[0;34m(\u001b[0m\u001b[0mnumber\u001b[0m\u001b[0;34m,\u001b[0m \u001b[0msig\u001b[0m\u001b[0;34m)\u001b[0m\u001b[0;34m:\u001b[0m\u001b[0;34m\u001b[0m\u001b[0m\n\u001b[1;32m    112\u001b[0m             \u001b[0;32mreturn\u001b[0m \u001b[0;32mTrue\u001b[0m\u001b[0;34m\u001b[0m\u001b[0m\n\u001b[0;32m--> 113\u001b[0;31m         \u001b[0;32mraise\u001b[0m \u001b[0mBadSignatureError\u001b[0m\u001b[0;34m\u001b[0m\u001b[0m\n\u001b[0m\u001b[1;32m    114\u001b[0m \u001b[0;34m\u001b[0m\u001b[0m\n\u001b[1;32m    115\u001b[0m \u001b[0;32mclass\u001b[0m \u001b[0mSigningKey\u001b[0m\u001b[0;34m:\u001b[0m\u001b[0;34m\u001b[0m\u001b[0m\n",
      "\u001b[0;31mBadSignatureError\u001b[0m: "
     ]
    }
   ],
   "source": [
    "# if we use a different message, we get an error such as belong which\n",
    "# which can be caught and handled by another part of our program\n",
    "public_key.verify(signature, b\"I don't need coffee\")"
   ]
  },
  {
   "cell_type": "markdown",
   "metadata": {},
   "source": [
    "# Defining ECDSACoin\n",
    "\n",
    "* A coin is just a list of transfers, just like with PNGCoin. \n",
    "    * Where transfers were photographs of signatures in PNGCoin, they are ECDSA digital signatures in ECDSACoin\n",
    "* The `public_key` in the last transfer is who owns the coin\n",
    "* To spend the coin append a new transfer. Use the public key of the person you are sending to, and sign it using your private key."
   ]
  },
  {
   "cell_type": "code",
   "execution_count": 7,
   "metadata": {},
   "outputs": [],
   "source": [
    "class Transfer:\n",
    "    \n",
    "    def __init__(self, signature, public_key):\n",
    "        self.signature = signature\n",
    "        self.public_key = public_key\n",
    "        \n",
    "class ECDSACoin:\n",
    "    \n",
    "    def __init__(self, transfers):\n",
    "        self.transfers = transfers"
   ]
  },
  {
   "cell_type": "code",
   "execution_count": 8,
   "metadata": {},
   "outputs": [],
   "source": [
    "# Generate private and public keys for the usual characters \n",
    "# SECP256k1 is a detail about the \"magical multiplication\" used under the covers\n",
    "\n",
    "bank_private_key = SigningKey.generate(curve=SECP256k1)\n",
    "bob_private_key = SigningKey.generate(curve=SECP256k1)\n",
    "alice_private_key = SigningKey.generate(curve=SECP256k1)\n",
    "\n",
    "bank_public_key = bank_private_key.get_verifying_key()\n",
    "bob_public_key = bob_private_key.get_verifying_key()\n",
    "alice_public_key = alice_private_key.get_verifying_key()"
   ]
  },
  {
   "cell_type": "code",
   "execution_count": 35,
   "metadata": {},
   "outputs": [],
   "source": [
    "from utils import serialize\n",
    "\n",
    "def issue(public_key):\n",
    "    # get a private key and derive public key \n",
    "    # and serialize it into a message\n",
    "    message = serialize(public_key)\n",
    "    \n",
    "    # create a signature (signing the message), bytestring\n",
    "    signature = bank_private_key.sign(message)    \n",
    "    \n",
    "    # create a transfer which references that signature and public key\n",
    "    transfer = Transfer(\n",
    "        signature=signature,\n",
    "        public_key=public_key\n",
    "    )\n",
    "    \n",
    "    # use that transfer as the only transfer in a list of transfers for\n",
    "    # this coin\n",
    "    coin = ECDSACoin([transfer])\n",
    "    # and use that to return to us the bank-issued coin\n",
    "    return coin"
   ]
  },
  {
   "cell_type": "markdown",
   "metadata": {},
   "source": [
    "# Validating the First Transfer"
   ]
  },
  {
   "cell_type": "code",
   "execution_count": 33,
   "metadata": {},
   "outputs": [],
   "source": [
    "def validate(coin):\n",
    "    # take the first transfer item of the coin to check it cam from bank\n",
    "    transfer = coin.transfers[0]\n",
    "    \n",
    "    # serialize the transfer public key (recipient's pub key) to reveal\n",
    "    # message which should be signed\n",
    "    message = serialize(transfer.public_key)\n",
    "    \n",
    "    # check that the bank signed the message\n",
    "    bank_public_key.verify(transfer.signature, message)"
   ]
  },
  {
   "cell_type": "code",
   "execution_count": 34,
   "metadata": {},
   "outputs": [],
   "source": [
    "# issue one coin to alice by passing her public key as the message to issue\n",
    "alice_coin = issue(alice_public_key)\n",
    "\n",
    "# validate that the coin belongs to alice\n",
    "validate(alice_coin)"
   ]
  },
  {
   "cell_type": "code",
   "execution_count": 12,
   "metadata": {},
   "outputs": [],
   "source": [
    "# now we will try to make a \"fake\" coin to check that we will detect fakes\n",
    "# bob is going to try and issue a new coin to himself\n",
    "message = serialize(bob_public_key)\n",
    "    \n",
    "# sign using bob's key (not authorized to issue new coins)\n",
    "signature = bob_private_key.sign(message)    \n",
    "\n",
    "# create a transfer which references that signature and public key\n",
    "transfer = Transfer(\n",
    "    signature=signature,\n",
    "    public_key=bob_public_key\n",
    ")\n",
    "\n",
    "# make (issue) a new coin which only has this single transfer from bob\n",
    "# to himself\n",
    "alt_coin = ECDSACoin([transfer])"
   ]
  },
  {
   "cell_type": "code",
   "execution_count": 13,
   "metadata": {},
   "outputs": [
    {
     "name": "stdout",
     "output_type": "stream",
     "text": [
      "Bad signature detected\n"
     ]
    }
   ],
   "source": [
    "# here we will use python to catch any errors\n",
    "from ecdsa import BadSignatureError\n",
    "\n",
    "# use 'try' when you attempt to run some code which might fail\n",
    "try:\n",
    "    validate(alt_coin)\n",
    "\n",
    "# if the below exception is raised, do something (print the message below)\n",
    "except BadSignatureError:\n",
    "    print(\"Bad signature detected\")\n",
    "    "
   ]
  },
  {
   "cell_type": "markdown",
   "metadata": {},
   "source": [
    "# Validating Subsequent Transfers"
   ]
  },
  {
   "cell_type": "code",
   "execution_count": 14,
   "metadata": {},
   "outputs": [],
   "source": [
    "# for subsequent tx we will combine the prev. sig with next sig in the\n",
    "# new messge (next pub key)\n",
    "\n",
    "def transfer_message(previous_signature, next_owner_public_key):\n",
    "    # return a serialized dictionary of signatures\n",
    "    return serialize({\n",
    "        \"previous_signature\": previous_signature,\n",
    "        \"next_owner_public_key\": next_owner_public_key,\n",
    "    })\n",
    "\n",
    "def validate(coin):\n",
    "    # check the first transfer\n",
    "    transfer = coin.transfers[0]\n",
    "    message = serialize(transfer.public_key)\n",
    "    bank_public_key.verify(transfer.signature, message)\n",
    "    \n",
    "    # check the rest of the coin.transfers\n",
    "    # keep a pointer to previous transfer and use that pub key to verify subsequent signature\n",
    "    previous_transfer = coin.transfers[0]\n",
    "    \n",
    "    # [1:] means \"start at this index, and go to the end\"\n",
    "    for next_transfer in coin.transfers[1:]:\n",
    "        \n",
    "        # new message will be previous signature and the pub key of the intended recipient\n",
    "        message = transfer_message(previous_transfer.signature, next_transfer.public_key)\n",
    "        previous_transfer.public_key.verify(\n",
    "            next_transfer.signature,\n",
    "            message,\n",
    "        )       \n",
    "    "
   ]
  },
  {
   "cell_type": "code",
   "execution_count": 22,
   "metadata": {},
   "outputs": [],
   "source": [
    "# given a key, look up in database who is the owner\n",
    "def get_owner(coin):\n",
    "    database = {\n",
    "        # make a map of keys to names\n",
    "        bob_public_key: \"Bob\",\n",
    "        alice_public_key: \"Alice\",\n",
    "        bank_public_key: \"Bank\",\n",
    "    }\n",
    "    public_key = coin.transfers[-1].public_key\n",
    "    # return the owner of the key (coin)\n",
    "    return database[public_key]"
   ]
  },
  {
   "cell_type": "code",
   "execution_count": 39,
   "metadata": {},
   "outputs": [
    {
     "name": "stdout",
     "output_type": "stream",
     "text": [
      "This coin is owned by  Alice\n",
      "This coin is owned by  Bob\n",
      "This coin is owned by  Bank\n"
     ]
    }
   ],
   "source": [
    "# test\n",
    "# issue alice a new coin\n",
    "coin = issue(alice_public_key)\n",
    "\n",
    "# print who the current owner of the coin is\n",
    "print(\"This coin is owned by \", get_owner(coin))\n",
    "\n",
    "# create a new signed message passing the coin to bob('s public key)\n",
    "# use -1 here to always check the last signature in the chain\n",
    "message = transfer_message(coin.transfers[-1].signature, bob_public_key)\n",
    "\n",
    "# initiate the transfer to bob\n",
    "alice_to_bob = Transfer(\n",
    "    # sender private key signing\n",
    "    signature = alice_private_key.sign(message),\n",
    "    # recipient pub key\n",
    "    public_key = bob_public_key\n",
    ")\n",
    "\n",
    "# make the transfer and append to transfers\n",
    "coin.transfers.append(alice_to_bob)\n",
    "\n",
    "# print who the new owner is\n",
    "print(\"This coin is owned by \", get_owner(coin))\n",
    "\n",
    "\n",
    "# now to test it really works, we will have bob send it back to the bank...\n",
    "message = transfer_message(coin.transfers[-1].signature, bank_public_key)\n",
    "\n",
    "bob_to_bank = Transfer(\n",
    "    signature = bob_private_key.sign(message),\n",
    "    public_key = bank_public_key\n",
    ")\n",
    "\n",
    "coin.transfers.append(bob_to_bank)\n",
    "\n",
    "print(\"This coin is owned by \", get_owner(coin))"
   ]
  },
  {
   "cell_type": "code",
   "execution_count": null,
   "metadata": {},
   "outputs": [],
   "source": []
  },
  {
   "cell_type": "markdown",
   "metadata": {},
   "source": [
    "# Serialization"
   ]
  },
  {
   "cell_type": "code",
   "execution_count": 41,
   "metadata": {},
   "outputs": [],
   "source": [
    "from utils import to_disk, from_disk"
   ]
  },
  {
   "cell_type": "code",
   "execution_count": 42,
   "metadata": {},
   "outputs": [
    {
     "name": "stdout",
     "output_type": "stream",
     "text": [
      "Does the coinfile exist on disk? False\n"
     ]
    }
   ],
   "source": [
    "# write the coin to disk, and then read it back\n",
    "import os\n",
    "\n",
    "# before we write check to see if the file is already there\n",
    "filename = \"coin.ecdsacoin\"\n",
    "\n",
    "# this os.path.isfile is platform agnostic\n",
    "print(\"Does the coinfile exist on disk?\", os.path.isfile(filename))"
   ]
  },
  {
   "cell_type": "code",
   "execution_count": 43,
   "metadata": {},
   "outputs": [],
   "source": [
    "coin = issue(alice_public_key)\n",
    "\n",
    "to_disk(coin, filename)"
   ]
  },
  {
   "cell_type": "code",
   "execution_count": 44,
   "metadata": {},
   "outputs": [
    {
     "name": "stdout",
     "output_type": "stream",
     "text": [
      "Does the coinfile exist on disk? True\n"
     ]
    }
   ],
   "source": [
    "# check that the file is there afterwards too\n",
    "print(\"Does the coinfile exist on disk?\", os.path.isfile(filename))"
   ]
  },
  {
   "cell_type": "code",
   "execution_count": 46,
   "metadata": {},
   "outputs": [
    {
     "data": {
      "text/plain": [
       "<__main__.ECDSACoin at 0x109c112e8>"
      ]
     },
     "execution_count": 46,
     "metadata": {},
     "output_type": "execute_result"
    }
   ],
   "source": [
    "coin = from_disk(filename)\n",
    "coin"
   ]
  },
  {
   "cell_type": "markdown",
   "metadata": {},
   "source": [
    "# The Finished Product\n",
    "\n",
    "[ecdsacoin.py](ecdsacoin.py)"
   ]
  },
  {
   "cell_type": "code",
   "execution_count": 21,
   "metadata": {},
   "outputs": [],
   "source": [
    "import ecdsacoin\n",
    "\n",
    "coin = ecdsacoin.issue(alice_public_key)\n",
    "coin.validate()\n",
    "\n",
    "alice_to_bob = Transfer(\n",
    "    signature=alice_private_key.sign(transfer_message(coin.transfers[-1].signature, bob_public_key)),\n",
    "    public_key=bob_public_key,\n",
    ")\n",
    "\n",
    "coin.transfers.append(alice_to_bob)\n",
    "coin.validate()"
   ]
  }
 ],
 "metadata": {
  "kernelspec": {
   "display_name": "Python 3",
   "language": "python",
   "name": "python3"
  },
  "language_info": {
   "codemirror_mode": {
    "name": "ipython",
    "version": 3
   },
   "file_extension": ".py",
   "mimetype": "text/x-python",
   "name": "python",
   "nbconvert_exporter": "python",
   "pygments_lexer": "ipython3",
   "version": "3.7.1"
  }
 },
 "nbformat": 4,
 "nbformat_minor": 2
}
